{
 "cells": [
  {
   "cell_type": "code",
   "execution_count": 1,
   "metadata": {},
   "outputs": [],
   "source": [
    "from jax import jit, vmap, random\n",
    "import jax.numpy as np\n",
    "import numpy as onp\n",
    "import jax\n",
    "\n",
    "# enable float 64\n",
    "from jax.config import config\n",
    "config.update('jax_enable_x64', True)"
   ]
  },
  {
   "cell_type": "code",
   "execution_count": 2,
   "metadata": {},
   "outputs": [],
   "source": [
    "from utils_response import create_df_response\n",
    "import pandas as pd\n",
    "import datetime\n"
   ]
  },
  {
   "cell_type": "code",
   "execution_count": 3,
   "metadata": {},
   "outputs": [],
   "source": [
    "# https://github.com/google/jax/issues/10144\n",
    "def transition(xi, τ, dt=1):\n",
    "    kb    = np.maximum(1.0 - np.exp(-τ*dt), 0)\n",
    "    pop   = onp.random.binomial(onp.int64(xi), kb )\n",
    "    return jax.device_put(pop)\n",
    "\n",
    "def checkpopvars(x, pop):\n",
    "    return np.minimum(np.maximum(x, 0), pop)\n",
    "\n",
    "def f(x, dt, β, γ, N):\n",
    "    \"\"\"\n",
    "    Process model\n",
    "    \"\"\"\n",
    "    S = x.at[0, :].get()\n",
    "    I = x.at[1, :].get()\n",
    "    R = x.at[2, :].get()\n",
    "    C = x.at[3, :].get()\n",
    "\n",
    "    s2i = transition(S, β * I / N, dt)\n",
    "    i2r = transition(I, γ, dt)\n",
    "\n",
    "    S  = S - s2i\n",
    "    I  = I + s2i - i2r\n",
    "    R  = R + i2r\n",
    "    C  = s2i\n",
    "\n",
    "    return checkpopvars(np.array([S, I, R, C]), N)\n",
    "\n",
    "def g(x):\n",
    "    \"\"\"\n",
    "    Observational model.\n",
    "    \"\"\"\n",
    "    return x.at[3, :].get()\n",
    "\n",
    "def f0(pop=1e-6, inf_init=1/100, m =300):\n",
    "    \"\"\"\n",
    "    Initial guess of the state space.\n",
    "    \"\"\"\n",
    "\n",
    "    I0 = pop * 0.01\n",
    "    S0 = pop - inf_init\n",
    "    R0 = 0\n",
    "    C0 = 0\n",
    "\n",
    "    x0  = np.ones((4, m)) * np.expand_dims(np.array([S0, I0, R0, C0]), -1)\n",
    "\n",
    "    return x0"
   ]
  },
  {
   "cell_type": "code",
   "execution_count": 5,
   "metadata": {},
   "outputs": [],
   "source": [
    "N = 1000\n",
    "\n",
    "β = 0.3 # days\n",
    "γ = 1/7 # days\n",
    "\n",
    "\n",
    "T    = 35\n",
    "dt   = 1\n",
    "ens  = 500\n",
    "x0    = f0(N, 1/100, m=ens)\n",
    "x_sim = x0\n",
    "\n",
    "x_sim = np.full((4, T, ens), np.nan)\n",
    "x_sim = x_sim.at[:, 0, :].set(x0)\n",
    "\n",
    "for t in range(1, T):\n",
    "    x     = f(x_sim.at[:, t-1, :].get(), 1, β, γ, N)\n",
    "    x_sim = x_sim.at[:, t, :].set(x)\n"
   ]
  },
  {
   "cell_type": "code",
   "execution_count": null,
   "metadata": {},
   "outputs": [],
   "source": [
    "S =  x_sim.at[0, :, :].get(); S_df = create_df_response(S.T, T)\n",
    "I =  x_sim.at[1, :, :].get(); I_df = create_df_response(I.T, T)\n",
    "R =  x_sim.at[2, :, :].get(); R_df = create_df_response(R.T, T)\n",
    "C =  x_sim.at[3, :, :].get(); C_df = create_df_response(C.T, T)\n",
    "\n",
    "k = jax.random.PRNGKey(1)\n",
    "obs_use = np.maximum(C.at[:, 300].get() + np.squeeze(jax.random.normal(k, shape=(T, 1))*2), 0)\n"
   ]
  },
  {
   "cell_type": "code",
   "execution_count": null,
   "metadata": {},
   "outputs": [],
   "source": [
    "S_df.index.shape, obs_use.shape, C.at[:, 300].get().shape,  jax.random.normal(k, shape=(T, 1)).shape"
   ]
  },
  {
   "cell_type": "code",
   "execution_count": null,
   "metadata": {},
   "outputs": [],
   "source": [
    "import matplotlib.pyplot as plt\n",
    "\n",
    "fig, ax = plt.subplots(1, 2, figsize=(10, 5))\n",
    "ax[0].plot(S_df.index, S_df['mean'], label='S', color=\"k\")\n",
    "ax[0].fill_between(S_df.index, S_df['low_95'], S_df['high_95'], alpha=0.4, color=\"gray\")\n",
    "ax[0].fill_between(S_df.index, S_df['low_50'], S_df['high_50'], alpha=0.3, color=\"gray\")\n",
    "\n",
    "ax[1].plot(C_df.index, C_df['mean'], label='S', color=\"k\")\n",
    "ax[1].fill_between(C_df.index, C_df['low_95'], C_df['high_95'], alpha=0.4, color=\"gray\")\n",
    "ax[1].fill_between(C_df.index, C_df['low_50'], C_df['high_50'], alpha=0.3, color=\"gray\")\n",
    "ax[1].scatter(S_df.index, obs_use, color=\"red\", marker=\"x\", s=20)\n"
   ]
  },
  {
   "cell_type": "code",
   "execution_count": null,
   "metadata": {},
   "outputs": [],
   "source": [
    "def eakf(x, y_sim, y, oev, return_gain=False):\n",
    "    \"\"\" Ensemble Adjustment Kalman Filter\n",
    "\n",
    "    Args:\n",
    "        x    : State space at time t.\n",
    "        y_sim: Simulated observation.\n",
    "        y    : Measured observation.\n",
    "        oev  : Observation error variance.\n",
    "        return_gain (bool, optional): If true return the gain of the filter. Defaults to False.\n",
    "\n",
    "    Returns:\n",
    "        xpost: Posterior estimate of state space.\n",
    "        obspost: Posterior estimate of observation.\n",
    "    \"\"\"\n",
    "    num_vars, num_ens = x.shape\n",
    "    prior_mean_ct     = y_sim.mean(-1, keepdims=True)  # Average over ensemble members\n",
    "    prior_var_ct      = y_sim.var(-1, keepdims=True)   # Compute variance over ensemble members\n",
    "\n",
    "    post_var_ct   = prior_var_ct * oev / (prior_var_ct + oev)\n",
    "    post_mean_ct  = post_var_ct * (prior_mean_ct/prior_var_ct + y / oev)\n",
    "    alpha         = oev / (oev+prior_var_ct); alpha = alpha**0.5\n",
    "    dy            = post_mean_ct + alpha*( y_sim - prior_mean_ct ) - y_sim\n",
    "\n",
    "    A       = np.cov(x, y_sim)\n",
    "    covars  = A.at[:-1, -1].get()\n",
    "    rr      = covars / prior_var_ct\n",
    "    dx      = np.dot( np.expand_dims(rr, -1), np.expand_dims(dy, 0))\n",
    "    xpost   = x     + dx\n",
    "    obspost = y_sim + dy\n",
    "\n",
    "    if return_gain:\n",
    "        return xpost, obspost, dx\n",
    "    else:\n",
    "        return xpost, obspost\n",
    "\n",
    "def geometric_cooling(if_iters, cooling_factor=0.9):\n",
    "    alphas = cooling_factor**np.arange(if_iters)\n",
    "    return alphas**2\n",
    "\n",
    "def hyperbolic_cooling(if_iters, cooling_factor=0.9):\n",
    "    alphas = 1/(1+cooling_factor*np.arange(if_iters))\n",
    "    return alphas\n",
    "\n",
    "def cooling(num_iteration_if, type_cool=\"geometric\", cooling_factor=0.9):\n",
    "    if type_cool==\"geometric\":\n",
    "        return geometric_cooling(num_iteration_if, cooling_factor=cooling_factor)\n",
    "    elif type_cool==\"hyperbolic\":\n",
    "        return hyperbolic_cooling(num_iteration_if, cooling_factor=cooling_factor)\n"
   ]
  }
 ],
 "metadata": {
  "kernelspec": {
   "display_name": "Python 3.8.13 ('pompjax')",
   "language": "python",
   "name": "python3"
  },
  "language_info": {
   "codemirror_mode": {
    "name": "ipython",
    "version": 3
   },
   "file_extension": ".py",
   "mimetype": "text/x-python",
   "name": "python",
   "nbconvert_exporter": "python",
   "pygments_lexer": "ipython3",
   "version": "3.8.13"
  },
  "orig_nbformat": 4,
  "vscode": {
   "interpreter": {
    "hash": "e23b8103492689b0d9748b47018d3861a561878402e3a1e7a565e9dcb2ea3867"
   }
  }
 },
 "nbformat": 4,
 "nbformat_minor": 2
}

{
 "cells": [
  {
   "cell_type": "code",
   "execution_count": 39,
   "metadata": {},
   "outputs": [],
   "source": [
    "from jax import jit, vmap, random\n",
    "import jax.numpy as np\n",
    "import numpy as onp\n",
    "import jax\n",
    "\n",
    "# enable float 64\n",
    "from jax.config import config\n",
    "config.update('jax_enable_x64', True)"
   ]
  },
  {
   "cell_type": "code",
   "execution_count": 49,
   "metadata": {},
   "outputs": [
    {
     "data": {
      "text/plain": [
       "DeviceArray([0, 0, 2, 3, 3], dtype=int64)"
      ]
     },
     "execution_count": 49,
     "metadata": {},
     "output_type": "execute_result"
    }
   ],
   "source": [
    "# https://github.com/google/jax/issues/10144\n",
    "\n",
    "def transition(xi, τ, dt=1):\n",
    "    kb    = np.maximum(1.0 - np.exp(-τ*dt), 0)\n",
    "    pop   = onp.random.binomial(xi, kb )\n",
    "    return jax.device_put(pop)\n",
    "\n"
   ]
  },
  {
   "cell_type": "code",
   "execution_count": 51,
   "metadata": {},
   "outputs": [],
   "source": [
    "def transition(xi, τ, dt=1):\n",
    "    kb    = np.maximum(1.0 - np.exp(-τ*dt), 0)\n",
    "    pop   = onp.random.binomial(xi, kb )\n",
    "    return jax.device_put(pop)\n",
    "\n",
    "\n",
    "def sir(x, dt, β, γ, N):\n",
    "    \"\"\" SIR model\n",
    "\n",
    "    Args:\n",
    "        x[t]:  State space at time t.\n",
    "        dt:    Recovery rate.\n",
    "        β:     Contact rate.\n",
    "        γ:     Recovery rate.\n",
    "        N:     Population.\n",
    "\n",
    "    Returns:\n",
    "        x[t+1]: State space at time t+1.\n",
    "    \"\"\"\n",
    "    S, I, R, C = x\n",
    "\n",
    "    s2i = transition(S, β * I / N *dt)\n",
    "    i2r = transition(I, γ * dt)\n",
    "\n",
    "    dS = -s2i\n",
    "    dI = s2i - i2r\n",
    "    dR = i2r\n",
    "    C  = s2i\n",
    "\n",
    "    return np.array([dS, dI, dR])\n"
   ]
  },
  {
   "cell_type": "code",
   "execution_count": null,
   "metadata": {},
   "outputs": [],
   "source": []
  }
 ],
 "metadata": {
  "kernelspec": {
   "display_name": "Python 3.8.13 ('pompjax')",
   "language": "python",
   "name": "python3"
  },
  "language_info": {
   "codemirror_mode": {
    "name": "ipython",
    "version": 3
   },
   "file_extension": ".py",
   "mimetype": "text/x-python",
   "name": "python",
   "nbconvert_exporter": "python",
   "pygments_lexer": "ipython3",
   "version": "3.8.13"
  },
  "orig_nbformat": 4,
  "vscode": {
   "interpreter": {
    "hash": "e23b8103492689b0d9748b47018d3861a561878402e3a1e7a565e9dcb2ea3867"
   }
  }
 },
 "nbformat": 4,
 "nbformat_minor": 2
}

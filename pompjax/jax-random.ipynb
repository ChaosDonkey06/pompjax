{
 "cells": [
  {
   "cell_type": "code",
   "execution_count": 2,
   "metadata": {},
   "outputs": [],
   "source": [
    "import jax.random as rran\n"
   ]
  },
  {
   "cell_type": "code",
   "execution_count": 11,
   "metadata": {},
   "outputs": [],
   "source": [
    "import jax.numpy as np\n",
    "import jax\n",
    "\n",
    "loww = -1\n",
    "upp  = 1\n",
    "\n",
    "# Generate a key\n",
    "key = rran.PRNGKey(0)\n",
    "# Sample from a uniform distribution\n",
    "sample_unifform  = rran.uniform(key, shape=(1, 5000), minval=loww, maxval=upp)\n",
    "\n",
    "# Generate a key\n",
    "key = rran.PRNGKey(1)\n",
    "\n",
    "\n",
    "mean = 50\n",
    "sd   = 5\n",
    "\n",
    "# Sampel from a truncated normal distribution\n",
    "sample_truncated_normal = jax.random.truncated_normal(key, shape=(5000, 2), lower=np.array([-1, 1]), upper=np.array([1, 2]), dtype=np.float64)"
   ]
  },
  {
   "cell_type": "code",
   "execution_count": null,
   "metadata": {},
   "outputs": [],
   "source": [
    "θ_min = np.array([20, 10, 5])\n",
    "θ_max = np.array([40, 30, 10])\n",
    "μ     = np.array([30, 20, 7.5])\n",
    "σ2    = np.diag(np.array([1, 1, 1]))\n",
    "\n",
    "sample_params_normal(key, θ_min, θ_max, μ, σ2, m=300)"
   ]
  },
  {
   "cell_type": "code",
   "execution_count": null,
   "metadata": {},
   "outputs": [],
   "source": [
    "import matplotlib.pyplot as plt\n",
    "import seaborn as sns\n",
    "\n",
    "fig, ax = plt.subplots(1, 2, figsize=(10, 5))\n",
    "\n",
    "sns.kdeplot(ax=ax[0], data=np.squeeze(sample_unifform) , bw = 0.5 , fill = True)\n",
    "sns.kdeplot(ax=ax[1], data=np.squeeze(sample_truncated) , bw = 0.5 , fill = True)\n"
   ]
  },
  {
   "cell_type": "code",
   "execution_count": null,
   "metadata": {},
   "outputs": [],
   "source": []
  },
  {
   "cell_type": "code",
   "execution_count": null,
   "metadata": {},
   "outputs": [],
   "source": []
  }
 ],
 "metadata": {
  "kernelspec": {
   "display_name": "Python 3.8.13 ('pompjax')",
   "language": "python",
   "name": "python3"
  },
  "language_info": {
   "codemirror_mode": {
    "name": "ipython",
    "version": 3
   },
   "file_extension": ".py",
   "mimetype": "text/x-python",
   "name": "python",
   "nbconvert_exporter": "python",
   "pygments_lexer": "ipython3",
   "version": "3.8.13"
  },
  "orig_nbformat": 4,
  "vscode": {
   "interpreter": {
    "hash": "e23b8103492689b0d9748b47018d3861a561878402e3a1e7a565e9dcb2ea3867"
   }
  }
 },
 "nbformat": 4,
 "nbformat_minor": 2
}

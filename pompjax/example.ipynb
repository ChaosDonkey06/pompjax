{
 "cells": [
  {
   "cell_type": "code",
   "execution_count": 1,
   "metadata": {},
   "outputs": [],
   "source": [
    "from jax import jit, vmap, random\n",
    "import jax.numpy as np\n",
    "import numpy as onp\n",
    "import jax\n",
    "\n",
    "# enable float 64\n",
    "from jax.config import config\n",
    "\n",
    "# config.update('jax_enable_x64', True)"
   ]
  },
  {
   "cell_type": "code",
   "execution_count": 2,
   "metadata": {},
   "outputs": [],
   "source": [
    "from utils_response import create_df_response\n",
    "import pandas as pd\n",
    "import datetime\n"
   ]
  },
  {
   "cell_type": "markdown",
   "metadata": {},
   "source": [
    "# How to use the Iterated EAKF"
   ]
  },
  {
   "cell_type": "markdown",
   "metadata": {},
   "source": [
    "## Define the your process model $f$, your observational model $g$ and the initial guess of the state space $f_0$ \n",
    "- See code below\n",
    "- We use binomial transition between compartments such that the number of people transitioning from compartment X to compartment Y at rate $\\tau$ will be:\n",
    "$$N_{X\\rightarrow Y} \\sim \\text{Binom}\\left(X,  1-\\exp\\left(\\tau\\cdot \\Delta t\\right)\\right)$$\n",
    "\n",
    "Note that here $\\tau$ could be a function of $Y$ (Force of Infection for example), and that the process model also account for the step size $\\Delta t$. In general, the step size can be embedded in the parameters of the model, but as a good practice we keep in as an argument of the process model with defualt to one $\\Delta t=1$."
   ]
  },
  {
   "cell_type": "code",
   "execution_count": 3,
   "metadata": {},
   "outputs": [],
   "source": [
    "# https://github.com/google/jax/issues/10144\n",
    "def binomial_transition(xi, τ, dt=1):\n",
    "    kb    = np.maximum(1.0 - np.exp(-τ*dt), 0)\n",
    "    pop   = onp.random.binomial(onp.int64(xi), kb )\n",
    "    return jax.device_put(pop)\n",
    "\n",
    "def checkpopvars(x, pop):\n",
    "    return np.clip(x, 0, pop)\n",
    "\n",
    "def f(t, x, β, γ, N, dt=1):\n",
    "    \"\"\"\n",
    "    Process model\n",
    "    \"\"\"\n",
    "    S = x.at[0, :].get()\n",
    "    I = x.at[1, :].get()\n",
    "    R = x.at[2, :].get()\n",
    "    C = x.at[3, :].get()\n",
    "\n",
    "\n",
    "    s2i = binomial_transition(S, β * I / N, dt)\n",
    "    i2r = binomial_transition(I, γ, dt)\n",
    "\n",
    "    S  = S - s2i\n",
    "    I  = I + s2i - i2r\n",
    "    R  = R + i2r\n",
    "    C  = s2i\n",
    "\n",
    "    return np.array([S, I, R, C])\n",
    "\n",
    "def g(t, x, θ, ρ=0.3):\n",
    "    \"\"\"\n",
    "    Observational model.\n",
    "        Args:\n",
    "            t: time\n",
    "            x: state space\n",
    "            θ: parameters\n",
    "            ρ: report rate\n",
    "    \"\"\"\n",
    "    y = onp.random.binomial(onp.int64(x.at[3, :].get()), ρ)\n",
    "    return jax.device_put(y)\n",
    "\n",
    "def f0(pop=1e6, inf_init=1/100, m=300):\n",
    "    \"\"\"\n",
    "    Initial guess of the state space.\n",
    "    \"\"\"\n",
    "    I0 = pop * inf_init\n",
    "    S0 = pop - I0\n",
    "    R0 = 0\n",
    "    C0 = 0\n",
    "\n",
    "    x0 = np.ones((4, m)) * np.expand_dims(np.array([S0, I0, R0, C0]), -1)\n",
    "\n",
    "    return x0"
   ]
  },
  {
   "cell_type": "markdown",
   "metadata": {},
   "source": [
    "## Simulate the model to have one stochastic trajectory for ingest in the Iterated EAKF."
   ]
  },
  {
   "cell_type": "code",
   "execution_count": 4,
   "metadata": {},
   "outputs": [],
   "source": [
    "N = 1e6\n",
    "\n",
    "γ_truth = 1/5 # days\n",
    "β_truth = 3 * γ_truth # days\n",
    "\n",
    "T    = 70\n",
    "dt   = 1\n",
    "ens  = 500\n",
    "x0    = f0(N, 1/100, m=ens)\n",
    "x_sim = x0\n",
    "\n",
    "x_sim = np.full((4, T, ens), np.nan)\n",
    "x_sim = x_sim.at[:, 0, :].set(x0)\n",
    "\n",
    "for t in range(1, T):\n",
    "    x     = f(t, x_sim.at[:, t-1, :].get(), β_truth, γ_truth, N)\n",
    "    x_sim = x_sim.at[:, t, :].set(x)\n",
    "\n",
    "C =  x_sim.at[3, :, :].get()\n",
    "\n",
    "k = jax.random.PRNGKey(1)\n",
    "\n",
    "obs_use   = C.at[:, onp.random.randint(ens)].get()\n",
    "obs_use_n = obs_use# + np.squeeze(jax.random.normal(k, shape=(T, 1))*0.5), 0)\n"
   ]
  },
  {
   "cell_type": "code",
   "execution_count": 5,
   "metadata": {},
   "outputs": [
    {
     "data": {
      "text/plain": [
       "[<matplotlib.lines.Line2D at 0x7fd6d1928d30>]"
      ]
     },
     "execution_count": 5,
     "metadata": {},
     "output_type": "execute_result"
    },
    {
     "data": {
      "image/png": "[encoded data removed]",
      "text/plain": [
       "<Figure size 700x500 with 1 Axes>"
      ]
     },
     "metadata": {},
     "output_type": "display_data"
    }
   ],
   "source": [
    "import matplotlib.pyplot as plt\n",
    "fig, ax = plt.subplots(1, 1, figsize=(7, 5))\n",
    "ax.plot(obs_use_n, label='obs', marker=\"x\")"
   ]
  },
  {
   "cell_type": "code",
   "execution_count": 6,
   "metadata": {},
   "outputs": [],
   "source": [
    "observation_df          = pd.DataFrame(obs_use_n, columns=['y1'])\n",
    "observation_df[\"oev1\"]  = np.maximum(20, 1 +( 0.1 * observation_df[\"y1\"].values)**2)\n",
    "observation_df[\"date\"] = pd.date_range(start=datetime.datetime(2020, 1, 1), periods=T, freq='D')\n"
   ]
  },
  {
   "cell_type": "code",
   "execution_count": 7,
   "metadata": {},
   "outputs": [],
   "source": [
    "from ifeakf import ifeakf\n",
    "\n",
    "model_settings = {\n",
    "    \"m\"           : 500,                           # number of ensembles\n",
    "    \"p\"           : 2,                             # number of parameters\n",
    "    \"k\"           : 1,                             # number of observations\n",
    "    \"n\"           : 4,                             # number of state variables / dimension of the state space\n",
    "    \"dt\"          : 1,                             # time step\n",
    "    \"param_name\"  : [\"β\", \"γ\"],                    # name of the parameters\n",
    "    \"dates\"       : observation_df[\"date\"].values, # integration dates (for the process model) | date_{t+1}-date_t = dt\n",
    "    \"param_truth\" : [β_truth, γ_truth]             # true parameter values (not required - just for the example)\n",
    "    }\n",
    "\n",
    "if_settings = {\n",
    "   \"Nif\"                : 50,                           # number of iterations of the IF\n",
    "   \"type_cooling\"       : \"geometric\",                  # type of cooling schedule\n",
    "   \"shrinkage_factor\"   : 0.9,                          # shrinkage factor for the cooling schedule\n",
    "   \"inflation\"          : 1.01,                         # inflation factor for spreading the variance after the EAKF step\n",
    "   \"assimilation_dates\" : observation_df[\"date\"].values # assimilation dates (for the inference)\n",
    "}\n",
    "\n",
    "# Function to be used for the ikeafk function.\n",
    "f_if  = lambda t, x, θ: f(t, x, θ.at[0, :].get(), θ.at[1, :].get(), N)\n",
    "g_if  = lambda t, x, θ: g(t, x, θ)\n",
    "f0_if = lambda θ: f0(pop=N, inf_init=10/100, m=model_settings[\"m\"])\n",
    "\n",
    "γmin = 1/15\n",
    "γmax = 1/3\n",
    "\n",
    "βmin = 0.5 * γmin\n",
    "βmax = 3   * γmax\n",
    "\n",
    "\n",
    "state_space_range = np.array([[0, N], [0, N], [0, N], [0, N]])\n",
    "parameters_range  = np.array([[βmin, βmax], [γmin, γmax]])\n",
    "\n",
    "σ_perturb   = np.array([(βmax-βmin) / 2, (γmax-γmin) / 2] )\n"
   ]
  },
  {
   "cell_type": "code",
   "execution_count": 8,
   "metadata": {},
   "outputs": [
    {
     "name": "stderr",
     "output_type": "stream",
     "text": [
      " 48%|████▊     | 24/50 [00:21<00:22,  1.13it/s]\n"
     ]
    }
   ],
   "source": [
    "obs_df                  = observation_df.set_index(\"date\").resample(\"W-Sun\").sum()\n",
    "obs_df.index.values[-1] = model_settings[\"dates\"][-1]\n",
    "obs_df[\"oev1\"]  = np.maximum(20, 1 +( 0.2 * obs_df[\"y1\"].values)**2)\n",
    "\n",
    "if_settings[\"assimilation_dates\"] = obs_df.index.values\n",
    "\n",
    "θmle, θpost = ifeakf(process_model            = f_if,\n",
    "                    observational_model       = g_if,\n",
    "                    state_space_initial_guess = f0_if,\n",
    "                    observations_df           = obs_df, #resample so assimilitaiton dates are weekly\n",
    "                    parameters_range          = parameters_range,\n",
    "                    state_space_range         = state_space_range,\n",
    "                    model_settings            = model_settings,\n",
    "                    if_settings               = if_settings,\n",
    "                    perturbation              = σ_perturb)\n"
   ]
  },
  {
   "cell_type": "code",
   "execution_count": null,
   "metadata": {},
   "outputs": [],
   "source": [
    "from diagnostic_plot import convergence_plot\n",
    "\n",
    "p_truth = model_settings[\"param_truth\"]\n",
    "\n",
    "fig, ax = plt.subplots(2, 1, figsize=(12.5, 7.2), sharex=True)\n",
    "convergence_plot(θmle, θpost.mean(-2), parameters_range, param_truth=p_truth, ax=ax, fig=fig)\n"
   ]
  },
  {
   "cell_type": "code",
   "execution_count": null,
   "metadata": {},
   "outputs": [],
   "source": []
  }
 ],
 "metadata": {
  "kernelspec": {
   "display_name": "Python 3.8.13 ('pompjax')",
   "language": "python",
   "name": "python3"
  },
  "language_info": {
   "codemirror_mode": {
    "name": "ipython",
    "version": 3
   },
   "file_extension": ".py",
   "mimetype": "text/x-python",
   "name": "python",
   "nbconvert_exporter": "python",
   "pygments_lexer": "ipython3",
   "version": "3.8.13"
  },
  "orig_nbformat": 4,
  "vscode": {
   "interpreter": {
    "hash": "e23b8103492689b0d9748b47018d3861a561878402e3a1e7a565e9dcb2ea3867"
   }
  }
 },
 "nbformat": 4,
 "nbformat_minor": 2
}

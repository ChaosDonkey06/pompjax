{
 "cells": [
  {
   "cell_type": "code",
   "execution_count": 1,
   "metadata": {},
   "outputs": [],
   "source": [
    "#from jax import jit, vmap, random\n",
    "#import jax.numpy as np\n",
    "import numpy as np\n",
    "import pandas as pd\n",
    "import datetime\n",
    "#import jax\n",
    "\n",
    "# enable float 64\n",
    "#from jax.config import config\n",
    "\n",
    "# config.update('jax_enable_x64', True)"
   ]
  },
  {
   "cell_type": "markdown",
   "metadata": {},
   "source": [
    "# How to use the Iterated EAKF"
   ]
  },
  {
   "cell_type": "markdown",
   "metadata": {},
   "source": [
    "## Define the your process model $f$, your observational model $g$ and the initial guess of the state space $f_0$ \n",
    "- See code below\n",
    "- We use binomial transition between compartments such that the number of people transitioning from compartment X to compartment Y at rate $\\tau$ will be:\n",
    "$$N_{X\\rightarrow Y} \\sim \\text{Binom}\\left(X,  1-\\exp\\left(\\tau\\cdot \\Delta t\\right)\\right)$$\n",
    "\n",
    "Note that here $\\tau$ could be a function of $Y$ (Force of Infection for example), and that the process model also account for the step size $\\Delta t$. In general, the step size can be embedded in the parameters of the model, but as a good practice we keep in as an argument of the process model with defualt to one $\\Delta t=1$."
   ]
  },
  {
   "cell_type": "code",
   "execution_count": 2,
   "metadata": {},
   "outputs": [],
   "source": [
    "# https://github.com/google/jax/issues/10144\n",
    "def binomial_transition(xi, tau, dt=1):\n",
    "    kb    = np.maximum(1.0 - np.exp(-tau*dt), 0)\n",
    "    pop   = np.random.binomial(list(xi), kb )\n",
    "    return pop\n",
    "\n",
    "def checkpopvars(x, pop):\n",
    "    return np.clip(x, 0, pop)\n",
    "\n",
    "def f(t, x, beta, gamma, N=1e6, dt=1):\n",
    "    S   = x[0, :]   # Susceptibles\n",
    "    I   = x[1, :]   # Infected Reported\n",
    "    R   = x[2, :]   # Recovered\n",
    "\n",
    "    foi =  beta * (I) / N\n",
    "\n",
    "    # Stochastic transitions\n",
    "    s2i     =  binomial_transition(S, foi * dt)    # susceptible to exposed\n",
    "    i2r     =  binomial_transition(I, gamma * dt) # exposed to infected reported who are not going to die\n",
    "\n",
    "    # Updates\n",
    "    S    = S   - s2i       # Susceptible\n",
    "    I    = I   + s2i - i2r # Infected reported\n",
    "    R    = R   + i2r       # Recovered\n",
    "    C    = s2i\n",
    "\n",
    "    return checkpopvars(np.array([S, I, R, C]), N)\n",
    "\n",
    "def g(t, x, report_rate):\n",
    "    \"\"\"\n",
    "    Observational model.\n",
    "        Args:\n",
    "            t: time\n",
    "            x: state space\n",
    "            θ: parameters\n",
    "            ρ: report rate\n",
    "    \"\"\"\n",
    "    y = np.random.binomial(list(x[3, :]), report_rate)\n",
    "    return y\n",
    "\n",
    "def f0(pop=1e6, inf_init=0.01, m=300):\n",
    "    \"\"\"\n",
    "    Initial guess of the state space.\n",
    "    \"\"\"\n",
    "    I0 = pop * inf_init\n",
    "    S0 = pop - I0\n",
    "    R0 = 0\n",
    "    C0 = I0\n",
    "\n",
    "    x0 = np.ones((4, m)) * np.expand_dims(np.array([S0, I0, R0, C0]), -1)\n",
    "    return x0"
   ]
  },
  {
   "cell_type": "markdown",
   "metadata": {},
   "source": [
    "## Simulate the model to have one stochastic trajectory for ingest in the Iterated EAKF."
   ]
  },
  {
   "cell_type": "code",
   "execution_count": 3,
   "metadata": {},
   "outputs": [],
   "source": [
    "R0    = 2.5\n",
    "gamma = 1/4\n",
    "beta  = R0*gamma\n",
    "N     = 1e6\n",
    "\n",
    "beta_truth        = beta\n",
    "gamma_truth       = gamma\n",
    "report_rate_truth = 0.3\n",
    "\n",
    "T     = 70\n",
    "dt    = 1\n",
    "ens   = 500\n",
    "x0    = f0(N, 0.1, m=ens)\n",
    "x_sim = x0\n",
    "\n",
    "x_sim          = np.full((4, T, ens), np.nan)\n",
    "x_sim[:, 0, :] = x0\n",
    "\n",
    "for t in range(1, T):\n",
    "    x_sim[:, t, :]  = f(t, x_sim[:, t-1, :], beta_truth, gamma_truth, N, dt=dt)\n",
    "C =  np.random.binomial(list(x_sim[3, :, :]), report_rate_truth)\n",
    "\n",
    "obs_use   = C[:, np.random.randint(ens)]\n",
    "obs_use_n = obs_use# + np.squeeze(jax.random.normal(k, shape=(T, 1))*0.5), 0)\n"
   ]
  },
  {
   "cell_type": "code",
   "execution_count": 4,
   "metadata": {},
   "outputs": [],
   "source": [
    "observation_df          = pd.DataFrame(obs_use_n, columns=['y1'])\n",
    "observation_df[\"oev1\"]  = np.maximum(20, 1 +( 0.2 * observation_df[\"y1\"].values)**2)\n",
    "observation_df[\"date\"] = pd.date_range(start=datetime.datetime(2020, 1, 1), periods=T, freq='D')\n"
   ]
  },
  {
   "cell_type": "code",
   "execution_count": 5,
   "metadata": {},
   "outputs": [
    {
     "ename": "ModuleNotFoundError",
     "evalue": "No module named 'pompjax'",
     "output_type": "error",
     "traceback": [
      "\u001b[0;31m---------------------------------------------------------------------------\u001b[0m",
      "\u001b[0;31mModuleNotFoundError\u001b[0m                       Traceback (most recent call last)",
      "Cell \u001b[0;32mIn [5], line 1\u001b[0m\n\u001b[0;32m----> 1\u001b[0m \u001b[39mfrom\u001b[39;00m \u001b[39mifeakf\u001b[39;00m \u001b[39mimport\u001b[39;00m ifeakf\n\u001b[1;32m      3\u001b[0m model_settings \u001b[39m=\u001b[39m {\n\u001b[1;32m      4\u001b[0m     \u001b[39m\"\u001b[39m\u001b[39mm\u001b[39m\u001b[39m\"\u001b[39m           : \u001b[39m500\u001b[39m,                                         \u001b[39m# number of ensembles\u001b[39;00m\n\u001b[1;32m      5\u001b[0m     \u001b[39m\"\u001b[39m\u001b[39mp\u001b[39m\u001b[39m\"\u001b[39m           : \u001b[39m3\u001b[39m,                                           \u001b[39m# number of parameters\u001b[39;00m\n\u001b[0;32m   (...)\u001b[0m\n\u001b[1;32m     11\u001b[0m     \u001b[39m\"\u001b[39m\u001b[39mparam_truth\u001b[39m\u001b[39m\"\u001b[39m : [beta_truth, gamma_truth, report_rate_truth] \u001b[39m# true parameter values (not required - just for the example)\u001b[39;00m\n\u001b[1;32m     12\u001b[0m     }\n\u001b[1;32m     14\u001b[0m if_settings \u001b[39m=\u001b[39m {\n\u001b[1;32m     15\u001b[0m    \u001b[39m\"\u001b[39m\u001b[39mNif\u001b[39m\u001b[39m\"\u001b[39m                : \u001b[39m40\u001b[39m,                           \u001b[39m# number of iterations of the IF\u001b[39;00m\n\u001b[1;32m     16\u001b[0m    \u001b[39m\"\u001b[39m\u001b[39mtype_cooling\u001b[39m\u001b[39m\"\u001b[39m       : \u001b[39m\"\u001b[39m\u001b[39mgeometric\u001b[39m\u001b[39m\"\u001b[39m,                  \u001b[39m# type of cooling schedule\u001b[39;00m\n\u001b[0;32m   (...)\u001b[0m\n\u001b[1;32m     19\u001b[0m    \u001b[39m\"\u001b[39m\u001b[39massimilation_dates\u001b[39m\u001b[39m\"\u001b[39m : observation_df[\u001b[39m\"\u001b[39m\u001b[39mdate\u001b[39m\u001b[39m\"\u001b[39m]\u001b[39m.\u001b[39mvalues \u001b[39m# assimilation dates (for the inference)\u001b[39;00m\n\u001b[1;32m     20\u001b[0m }\n",
      "File \u001b[0;32m~/Dropbox/My Mac (Jaimes-MacBook-Pro.local)/Desktop/PersonalProjects/pompjax/pompjax/ifeakf.py:8\u001b[0m\n\u001b[1;32m      4\u001b[0m \u001b[39m#import jax\u001b[39;00m\n\u001b[1;32m      6\u001b[0m \u001b[39mfrom\u001b[39;00m \u001b[39mtqdm\u001b[39;00m \u001b[39mimport\u001b[39;00m tqdm\n\u001b[0;32m----> 8\u001b[0m \u001b[39mfrom\u001b[39;00m \u001b[39mpompjax\u001b[39;00m\u001b[39m.\u001b[39;00m\u001b[39mstats\u001b[39;00m \u001b[39mimport\u001b[39;00m sample_uniform2, sample_truncated_normal\n\u001b[1;32m      9\u001b[0m \u001b[39mfrom\u001b[39;00m \u001b[39mpompjax\u001b[39;00m\u001b[39m.\u001b[39;00m\u001b[39minference\u001b[39;00m \u001b[39mimport\u001b[39;00m check_state_space, eakf, checkbound_params, inflate_ensembles, eakf_update\n\u001b[1;32m     11\u001b[0m \u001b[39m#from stats import sample_uniform, truncated_normal, sample_uniform2, sample_truncated_normal\u001b[39;00m\n\u001b[1;32m     12\u001b[0m \u001b[39m#from inference import check_param_space, check_state_space, eakf, checkbound_params, inflate_ensembles\u001b[39;00m\n",
      "\u001b[0;31mModuleNotFoundError\u001b[0m: No module named 'pompjax'"
     ]
    }
   ],
   "source": [
    "from ifeakf import ifeakf\n",
    "\n",
    "model_settings = {\n",
    "    \"m\"           : 500,                                         # number of ensembles\n",
    "    \"p\"           : 3,                                           # number of parameters\n",
    "    \"k\"           : 1,                                           # number of observations\n",
    "    \"n\"           : 4,                                           # number of state variables / dimension of the state space\n",
    "    \"dt\"          : 1,                                           # time step\n",
    "    \"param_name\"  : [\"β\", \"γ\", \"ρ\"],                             # name of the parameters\n",
    "    \"dates\"       : observation_df[\"date\"].values,               # integration dates (for the process model) | date_{t+1}-date_t = dt\n",
    "    \"param_truth\" : [beta_truth, gamma_truth, report_rate_truth] # true parameter values (not required - just for the example)\n",
    "    }\n",
    "\n",
    "if_settings = {\n",
    "   \"Nif\"                : 40,                           # number of iterations of the IF\n",
    "   \"type_cooling\"       : \"geometric\",                  # type of cooling schedule\n",
    "   \"shrinkage_factor\"   : 0.9,                          # shrinkage factor for the cooling schedule\n",
    "   \"inflation\"          : 1.01,                         # inflation factor for spreading the variance after the EAKF step\n",
    "   \"assimilation_dates\" : observation_df[\"date\"].values # assimilation dates (for the inference)\n",
    "}\n",
    "\n",
    "N     = 1e6\n",
    "\n",
    "\n",
    "# Function to be used for the ikeafk function.\n",
    "f_if  = lambda t, x, θ: f(t, x, θ[0, :], θ[1, :], N)\n",
    "g_if  = lambda t, x, θ: g(t, x, θ[2, :])\n",
    "f0_if = lambda θ: f0(pop=N, inf_init=10/100, m=model_settings[\"m\"])\n",
    "\n",
    "\n",
    "γmin = 1/15\n",
    "γmax = 1/3\n",
    "\n",
    "βmin = 0.2\n",
    "βmax = 3.5\n",
    "\n",
    "ρmin = 0.01\n",
    "ρmax = 1\n",
    "\n",
    "state_space_range = np.array([0, N])\n",
    "parameters_range  = np.array([[βmin, βmax],\n",
    "                              [γmin, γmax],\n",
    "                              [ρmin, ρmax]])\n",
    "\n",
    "σ_perturb = np.array([(βmax-βmin)/10, (γmax-γmin)/10, (γmax-γmin)/10])\n"
   ]
  },
  {
   "cell_type": "code",
   "execution_count": null,
   "metadata": {},
   "outputs": [],
   "source": [
    "obs_df                  = observation_df.set_index(\"date\")#.resample(\"W-Sun\").sum()\n",
    "obs_df.index.values[-1] = model_settings[\"dates\"][-1]\n",
    "obs_df[\"oev1\"]  = np.maximum(20, 1 +( 0.2 * obs_df[\"y1\"].values)**2)\n",
    "\n",
    "if_settings[\"assimilation_dates\"] = obs_df.index.values\n",
    "\n",
    "θmle, θpost = ifeakf(process_model            = f_if,\n",
    "                    observational_model       = g_if,\n",
    "                    state_space_initial_guess = f0_if,\n",
    "                    observations_df           = obs_df,            #resample so assimilitation dates are weekly\n",
    "                    parameters_range          = parameters_range,\n",
    "                    state_space_range         = state_space_range,\n",
    "                    model_settings            = model_settings,\n",
    "                    if_settings               = if_settings,\n",
    "                    perturbation              = σ_perturb)\n"
   ]
  },
  {
   "cell_type": "code",
   "execution_count": null,
   "metadata": {},
   "outputs": [],
   "source": [
    "from diagnostic_plots import convergence_plot\n",
    "from utils import create_df_response\n",
    "import matplotlib.pyplot as plt\n",
    "\n",
    "p_truth = model_settings[\"param_truth\"]\n",
    "β_df    = create_df_response(θpost[0, :, :, :].mean(-2).T, if_settings[\"Nif\"])\n",
    "γ_df    = create_df_response(θpost[1, :, :, :].mean(-2).T, if_settings[\"Nif\"])\n",
    "ρ_df    = create_df_response(θpost[2, :, :, :].mean(-2).T, if_settings[\"Nif\"])\n",
    "\n",
    "p_df   = [β_df, γ_df, ρ_df]\n",
    "p_name = [r\"$\\beta$\", r\"$\\gamma$\", r\"$\\rho$\"]\n",
    "\n",
    "fig, ax = plt.subplots(3, 1, figsize=(12.5, 7.2), sharex=True)\n",
    "convergence_plot(θmle, p_df, parameters_range, param_truth=p_truth, param_label=p_name, ax=ax, fig=fig)\n"
   ]
  },
  {
   "cell_type": "code",
   "execution_count": null,
   "metadata": {},
   "outputs": [],
   "source": []
  },
  {
   "cell_type": "code",
   "execution_count": null,
   "metadata": {},
   "outputs": [],
   "source": []
  }
 ],
 "metadata": {
  "kernelspec": {
   "display_name": "Python 3.8.13 ('pompjax')",
   "language": "python",
   "name": "python3"
  },
  "language_info": {
   "codemirror_mode": {
    "name": "ipython",
    "version": 3
   },
   "file_extension": ".py",
   "mimetype": "text/x-python",
   "name": "python",
   "nbconvert_exporter": "python",
   "pygments_lexer": "ipython3",
   "version": "3.8.13"
  },
  "orig_nbformat": 4,
  "vscode": {
   "interpreter": {
    "hash": "e23b8103492689b0d9748b47018d3861a561878402e3a1e7a565e9dcb2ea3867"
   }
  }
 },
 "nbformat": 4,
 "nbformat_minor": 2
}

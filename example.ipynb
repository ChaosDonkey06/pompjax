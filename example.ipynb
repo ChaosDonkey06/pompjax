{
 "cells": [
  {
   "cell_type": "code",
   "execution_count": 1,
   "metadata": {},
   "outputs": [],
   "source": [
    "from jax import jit, vmap, random\n",
    "import jax.numpy as np\n",
    "import numpy as onp\n",
    "import jax\n",
    "\n",
    "# enable float 64\n",
    "from jax.config import config\n",
    "config.update('jax_enable_x64', True)"
   ]
  },
  {
   "cell_type": "code",
   "execution_count": 2,
   "metadata": {},
   "outputs": [],
   "source": [
    "from utils_response import create_df_response\n",
    "import pandas as pd\n",
    "import datetime\n"
   ]
  },
  {
   "cell_type": "markdown",
   "metadata": {},
   "source": [
    "# How to use the Iterated EAKF"
   ]
  },
  {
   "cell_type": "markdown",
   "metadata": {},
   "source": [
    "## Define the your process model $f$, your observational model $g$ and the initial guess of the state space $f_0$ \n",
    "- See code below\n",
    "- We use binomial transition between compartments such that the number of people transitioning from compartment X to compartment Y at rate $\\tau$ will be:\n",
    "$$N_{X\\rightarrow Y} \\sim \\text{Binom}\\left(X,  1-\\exp\\left(\\tau\\cdot \\Delta t\\right)\\right)$$\n",
    "\n",
    "Note that here $\\tau$ could be a function of $Y$ (Force of Infection for example), and that the process model also account for the step size $\\Delta t$. In general, the step size can be embedded in the parameters of the model, but as a good practice we keep in as an argument of the process model with defualt to one $\\Delta t=1$."
   ]
  },
  {
   "cell_type": "code",
   "execution_count": 3,
   "metadata": {},
   "outputs": [],
   "source": [
    "# https://github.com/google/jax/issues/10144\n",
    "def binomial_transition(xi, τ, dt=1):\n",
    "    kb    = np.maximum(1.0 - np.exp(-τ*dt), 0)\n",
    "    pop   = onp.random.binomial(onp.int64(xi), kb )\n",
    "    return jax.device_put(pop)\n",
    "\n",
    "def checkpopvars(x, pop):\n",
    "    return np.clip(x, 0, pop)\n",
    "\n",
    "def f(t, x, β, γ, N, dt=1):\n",
    "    \"\"\"\n",
    "    Process model\n",
    "    \"\"\"\n",
    "    S = x.at[0, :].get()\n",
    "    I = x.at[1, :].get()\n",
    "    R = x.at[2, :].get()\n",
    "    C = x.at[3, :].get()\n",
    "\n",
    "\n",
    "    s2i = binomial_transition(S, β * I / N, dt)\n",
    "    i2r = binomial_transition(I, γ, dt)\n",
    "\n",
    "    S  = S - s2i\n",
    "    I  = I + s2i - i2r\n",
    "    R  = R + i2r\n",
    "    C  = s2i\n",
    "\n",
    "    return np.array([S, I, R, C])\n",
    "\n",
    "def g(t, x, θ):\n",
    "    \"\"\"\n",
    "    Observational model.\n",
    "    \"\"\"\n",
    "    return x.at[3, :].get()\n",
    "\n",
    "def f0(pop=1e+6, inf_init=1/100, m =300):\n",
    "    \"\"\"\n",
    "    Initial guess of the state space.\n",
    "    \"\"\"\n",
    "    I0 = pop * 0.01\n",
    "    S0 = pop - inf_init\n",
    "    R0 = 0\n",
    "    C0 = 0\n",
    "\n",
    "    x0 = np.ones((4, m)) * np.expand_dims(np.array([S0, I0, R0, C0]), -1)\n",
    "\n",
    "    return x0"
   ]
  },
  {
   "cell_type": "markdown",
   "metadata": {},
   "source": [
    "## Simulate the model to have one stochastic trajectory for ingest in the Iterated EAKF."
   ]
  },
  {
   "cell_type": "code",
   "execution_count": 4,
   "metadata": {},
   "outputs": [],
   "source": [
    "N = 1000\n",
    "\n",
    "β_truth = 0.9 # days\n",
    "γ_truth = 1/7 # days\n",
    "\n",
    "\n",
    "T    = 70\n",
    "dt   = 1\n",
    "ens  = 500\n",
    "x0    = f0(N, 1/10, m=ens)\n",
    "x_sim = x0\n",
    "\n",
    "x_sim = np.full((4, T, ens), np.nan)\n",
    "x_sim = x_sim.at[:, 0, :].set(x0)\n",
    "\n",
    "for t in range(1, T):\n",
    "    x     = f(t, x_sim.at[:, t-1, :].get(), β_truth, γ_truth, N)\n",
    "    x_sim = x_sim.at[:, t, :].set(x)\n",
    "\n",
    "\n",
    "C =  x_sim.at[3, :, :].get()\n",
    "\n",
    "k = jax.random.PRNGKey(1)\n",
    "\n",
    "obs_use   = C.at[:, onp.random.randint(ens)].get()\n",
    "obs_use_n = np.maximum(obs_use + np.squeeze(jax.random.normal(k, shape=(T, 1))*0.5), 0)\n"
   ]
  },
  {
   "cell_type": "code",
   "execution_count": 5,
   "metadata": {},
   "outputs": [
    {
     "data": {
      "text/plain": [
       "[<matplotlib.lines.Line2D at 0x7fef91e90100>]"
      ]
     },
     "execution_count": 5,
     "metadata": {},
     "output_type": "execute_result"
    },
    {
     "data": {
      "image/png": "[encoded data removed]",
      "text/plain": [
       "<Figure size 700x500 with 1 Axes>"
      ]
     },
     "metadata": {},
     "output_type": "display_data"
    }
   ],
   "source": [
    "import matplotlib.pyplot as plt\n",
    "fig, ax = plt.subplots(1, 1, figsize=(7, 5))\n",
    "ax.plot(obs_use_n, label='obs', marker=\"x\")"
   ]
  },
  {
   "cell_type": "code",
   "execution_count": 6,
   "metadata": {},
   "outputs": [
    {
     "data": {
      "text/html": [
       "<div>\n",
       "<style scoped>\n",
       "    .dataframe tbody tr th:only-of-type {\n",
       "        vertical-align: middle;\n",
       "    }\n",
       "\n",
       "    .dataframe tbody tr th {\n",
       "        vertical-align: top;\n",
       "    }\n",
       "\n",
       "    .dataframe thead th {\n",
       "        text-align: right;\n",
       "    }\n",
       "</style>\n",
       "<table border=\"1\" class=\"dataframe\">\n",
       "  <thead>\n",
       "    <tr style=\"text-align: right;\">\n",
       "      <th></th>\n",
       "      <th>y1</th>\n",
       "      <th>oev1</th>\n",
       "      <th>date</th>\n",
       "    </tr>\n",
       "  </thead>\n",
       "  <tbody>\n",
       "    <tr>\n",
       "      <th>0</th>\n",
       "      <td>0.000000</td>\n",
       "      <td>1.000000</td>\n",
       "      <td>2020-01-01</td>\n",
       "    </tr>\n",
       "    <tr>\n",
       "      <th>1</th>\n",
       "      <td>13.273525</td>\n",
       "      <td>8.047459</td>\n",
       "      <td>2020-01-02</td>\n",
       "    </tr>\n",
       "    <tr>\n",
       "      <th>2</th>\n",
       "      <td>24.528501</td>\n",
       "      <td>25.065894</td>\n",
       "      <td>2020-01-03</td>\n",
       "    </tr>\n",
       "    <tr>\n",
       "      <th>3</th>\n",
       "      <td>50.555398</td>\n",
       "      <td>103.233929</td>\n",
       "      <td>2020-01-04</td>\n",
       "    </tr>\n",
       "    <tr>\n",
       "      <th>4</th>\n",
       "      <td>65.474932</td>\n",
       "      <td>172.478668</td>\n",
       "      <td>2020-01-05</td>\n",
       "    </tr>\n",
       "    <tr>\n",
       "      <th>...</th>\n",
       "      <td>...</td>\n",
       "      <td>...</td>\n",
       "      <td>...</td>\n",
       "    </tr>\n",
       "    <tr>\n",
       "      <th>65</th>\n",
       "      <td>0.000000</td>\n",
       "      <td>1.000000</td>\n",
       "      <td>2020-03-06</td>\n",
       "    </tr>\n",
       "    <tr>\n",
       "      <th>66</th>\n",
       "      <td>0.000000</td>\n",
       "      <td>1.000000</td>\n",
       "      <td>2020-03-07</td>\n",
       "    </tr>\n",
       "    <tr>\n",
       "      <th>67</th>\n",
       "      <td>0.000000</td>\n",
       "      <td>1.000000</td>\n",
       "      <td>2020-03-08</td>\n",
       "    </tr>\n",
       "    <tr>\n",
       "      <th>68</th>\n",
       "      <td>0.000000</td>\n",
       "      <td>1.000000</td>\n",
       "      <td>2020-03-09</td>\n",
       "    </tr>\n",
       "    <tr>\n",
       "      <th>69</th>\n",
       "      <td>0.213681</td>\n",
       "      <td>1.001826</td>\n",
       "      <td>2020-03-10</td>\n",
       "    </tr>\n",
       "  </tbody>\n",
       "</table>\n",
       "<p>70 rows × 3 columns</p>\n",
       "</div>"
      ],
      "text/plain": [
       "           y1        oev1       date\n",
       "0    0.000000    1.000000 2020-01-01\n",
       "1   13.273525    8.047459 2020-01-02\n",
       "2   24.528501   25.065894 2020-01-03\n",
       "3   50.555398  103.233929 2020-01-04\n",
       "4   65.474932  172.478668 2020-01-05\n",
       "..        ...         ...        ...\n",
       "65   0.000000    1.000000 2020-03-06\n",
       "66   0.000000    1.000000 2020-03-07\n",
       "67   0.000000    1.000000 2020-03-08\n",
       "68   0.000000    1.000000 2020-03-09\n",
       "69   0.213681    1.001826 2020-03-10\n",
       "\n",
       "[70 rows x 3 columns]"
      ]
     },
     "execution_count": 6,
     "metadata": {},
     "output_type": "execute_result"
    }
   ],
   "source": [
    "observation_df          = pd.DataFrame(obs_use_n, columns=['y1'])\n",
    "observation_df[\"oev1\"]  = 1 +( 0.2 * observation_df[\"y1\"])**2\n",
    "observation_df[\"date\"] = pd.date_range(start=datetime.datetime(2020, 1, 1), periods=T, freq='D')\n",
    "observation_df"
   ]
  },
  {
   "cell_type": "code",
   "execution_count": 7,
   "metadata": {},
   "outputs": [
    {
     "name": "stderr",
     "output_type": "stream",
     "text": [
      " 83%|████████▎ | 83/100 [04:42<00:57,  3.40s/it]"
     ]
    }
   ],
   "source": [
    "from ifeakf import ifeakf\n",
    "\n",
    "model_settings ={\n",
    "    \"m\": 300,\n",
    "    \"p\": 2,\n",
    "    \"k\": 1,\n",
    "    \"n\": 4,\n",
    "    \"param_name\": [\"β\", \"γ\"],\n",
    "    \"dates\": observation_df[\"date\"].values\n",
    "    }\n",
    "\n",
    "if_settings = {\n",
    "   \"Nif\"                : 100,\n",
    "   \"type_cooling\"       : \"geometric\",\n",
    "   \"shrinkage_factor\"   : 0.9,\n",
    "   \"assimilation_dates\" : observation_df[\"date\"].values\n",
    "}\n",
    "\n",
    "# By definition of the iterated filtering function the process model f and the observational model g input the time t, the state x and the parameters θ, \n",
    "# althought in practice the time t or the parameters θ are not used in the model observational model.\n",
    "# I create a wrapper function to make those parameters in the functions.\n",
    "\n",
    "f_if = lambda t, x, θ: f(t, x, θ.at[0,:].get(), θ.at[1, :].get(), N)\n",
    "g_if = lambda t, x, θ: g(t, x, θ)\n",
    "\n",
    "βmin = 0.2\n",
    "βmax = 1.5\n",
    "\n",
    "γmin = 1/20\n",
    "γmax = 1/4\n",
    "\n",
    "state_space_range = np.array([[0, N], [0, N], [0, N], [0, N]])\n",
    "parameters_range = np.array([[βmin, βmax], [γmin, γmax]])\n",
    "\n",
    "θ_estimate = ifeakf(process_model             = f_if,\n",
    "                    observational_model       = g_if,\n",
    "                    state_space_initial_guess = f0,\n",
    "                    observations_df           = observation_df.set_index(\"date\"),\n",
    "                    parameters_range          = parameters_range,\n",
    "                    state_space_range         = state_space_range,\n",
    "                    model_settings            = model_settings,\n",
    "                    if_settings               = if_settings)\n"
   ]
  },
  {
   "cell_type": "code",
   "execution_count": null,
   "metadata": {},
   "outputs": [],
   "source": []
  }
 ],
 "metadata": {
  "kernelspec": {
   "display_name": "Python 3.8.13 ('pompjax')",
   "language": "python",
   "name": "python3"
  },
  "language_info": {
   "codemirror_mode": {
    "name": "ipython",
    "version": 3
   },
   "file_extension": ".py",
   "mimetype": "text/x-python",
   "name": "python",
   "nbconvert_exporter": "python",
   "pygments_lexer": "ipython3",
   "version": "3.8.13"
  },
  "orig_nbformat": 4,
  "vscode": {
   "interpreter": {
    "hash": "e23b8103492689b0d9748b47018d3861a561878402e3a1e7a565e9dcb2ea3867"
   }
  }
 },
 "nbformat": 4,
 "nbformat_minor": 2
}
